{
 "cells": [
  {
   "cell_type": "code",
   "execution_count": 168,
   "metadata": {},
   "outputs": [
    {
     "name": "stdout",
     "output_type": "stream",
     "text": [
      "Se ha generado el archivo PDF: tabla_ejemplo.pdf\n"
     ]
    }
   ],
   "source": [
    "from reportlab.lib.pagesizes import letter\n",
    "from reportlab.lib import colors\n",
    "from reportlab.platypus import SimpleDocTemplate, Table, TableStyle, Paragraph\n",
    "from reportlab.lib.styles import getSampleStyleSheet\n",
    "\n",
    "# Datos de ejemplo para la tabla\n",
    "data = [\n",
    "    ['Nombre', 'Descripción'],\n",
    "    ['Producto 1', 'Esta es una descripción muy larga que debería hacer que el texto se desborde en la celda si no se maneja correctamente. texto se desborde en la celda si no se maneja correctamente.'],\n",
    "    ['Producto 2', 'Descripción breve.'],\n",
    "    ['Producto 3', 'Otra descripción larga que prueba el ajuste automático de la celda.'],\n",
    "]\n",
    "\n",
    "# Función para convertir texto en Paragraph para manejar word wrap\n",
    "def create_paragraph(text):\n",
    "    # style = getSampleStyleSheet()['Normal']\n",
    "    style = getSampleStyleSheet()['BodyText']\n",
    "    return Paragraph(text, style)\n",
    "\n",
    "# Estilo de la tabla\n",
    "style = TableStyle([\n",
    "    ('BACKGROUND', (0, 0), (-1, 0), colors.gray),\n",
    "    ('TEXTCOLOR', (0, 0), (-1, 0), colors.white),\n",
    "    ('ALIGN', (0, 0), (-1, -1), 'CENTER'),\n",
    "    ('VALIGN', (0, 0), (-1, -1), 'MIDDLE'),\n",
    "    ('INNERGRID', (0, 0), (-1, -1), 0.25, colors.black),\n",
    "    ('BOX', (0, 0), (-1, -1), 0.25, colors.black),\n",
    "    ('WORDWRAP', (1, 1), (-1, -1)),  # Activar word wrap desde la segunda fila\n",
    "])\n",
    "\n",
    "# Convertir datos a Paragraphs para manejar word wrap\n",
    "data_paragraphs = [[create_paragraph(cell) for cell in row] for row in data]\n",
    "\n",
    "# Crear el documento PDF\n",
    "pdf_filename = 'tabla_ejemplo.pdf'\n",
    "doc = SimpleDocTemplate(pdf_filename, pagesize=letter)\n",
    "table = Table(data_paragraphs)\n",
    "table.setStyle(style)\n",
    "\n",
    "# Construir el PDF\n",
    "elements = [table]\n",
    "doc.build(elements)\n",
    "\n",
    "print(f'Se ha generado el archivo PDF: {pdf_filename}')"
   ]
  },
  {
   "cell_type": "code",
   "execution_count": 195,
   "metadata": {},
   "outputs": [],
   "source": [
    "mi_diccionario = {\n",
    "    # 'nombre': {},\n",
    "    'edad': 30,\n",
    "    'ciudad': 'Madrid'\n",
    "}\n",
    "\n",
    "type(mi_diccionario.get('nombre')) == dict\n",
    "import numpy as np\n",
    "np.log10(10)\n",
    "\n",
    "plt.figure()\n",
    "plt.plot(1,1,'o',color='none')\n",
    "plt.savefig('test.png')"
   ]
  },
  {
   "cell_type": "code",
   "execution_count": 167,
   "metadata": {},
   "outputs": [
    {
     "name": "stdout",
     "output_type": "stream",
     "text": [
      "Se ha generado el archivo PDF: tabla_ejemplo.pdf\n"
     ]
    }
   ],
   "source": [
    "from reportlab.lib.pagesizes import letter\n",
    "from reportlab.lib.styles import getSampleStyleSheet\n",
    "from reportlab.lib import colors\n",
    "from reportlab.platypus import SimpleDocTemplate, Table, TableStyle, Paragraph\n",
    "from reportlab.lib.units import inch\n",
    "\n",
    "# Datos de ejemplo para la tabla\n",
    "data = [\n",
    "    ['Nombre', 'Descripción'],\n",
    "    ['Producto 1', 'Esta es una descripción muy larga que debería hacer que el texto se desborde en la celda si no se maneja correctamente.'],\n",
    "    ['Producto 2', 'Descripción breve.'],\n",
    "    ['Producto 3', 'Otra descripción larga que prueba el ajuste automático de la celda.'],\n",
    "]\n",
    "\n",
    "# Estilo de la tabla\n",
    "style = TableStyle([\n",
    "    ('BACKGROUND', (0, 0), (-1, 0), colors.gray),\n",
    "    ('TEXTCOLOR', (0, 0), (-1, 0), colors.white),\n",
    "    ('ALIGN', (0, 0), (-1, -1), 'CENTER'),\n",
    "    ('INNERGRID', (0, 0), (-1, -1), 0.25, colors.black),\n",
    "    ('BOX', (0, 0), (-1, -1), 0.25, colors.black),\n",
    "    ('WORDWRAP', (1, 1), (-1, -1)),  # Activar word wrap desde la segunda fila\n",
    "])\n",
    "\n",
    "# Función para convertir texto en Paragraph para manejar word wrap\n",
    "def create_paragraph(text):\n",
    "    style = getSampleStyleSheet()['BodyText']\n",
    "    return Paragraph(text, style)\n",
    "\n",
    "# Convertir datos a Paragraphs para manejar word wrap\n",
    "data_paragraphs = [[create_paragraph(cell) for cell in row] for row in data]\n",
    "\n",
    "# Crear el documento PDF\n",
    "pdf_filename = 'tabla_ejemplo.pdf'\n",
    "doc = SimpleDocTemplate(pdf_filename, pagesize=letter)\n",
    "table = Table(data_paragraphs)\n",
    "table.setStyle(style)\n",
    "\n",
    "# Construir el PDF\n",
    "elements = [table]\n",
    "doc.build(elements)\n",
    "\n",
    "print(f'Se ha generado el archivo PDF: {pdf_filename}')"
   ]
  },
  {
   "cell_type": "code",
   "execution_count": 198,
   "metadata": {},
   "outputs": [
    {
     "data": {
      "text/plain": [
       "'None'"
      ]
     },
     "execution_count": 198,
     "metadata": {},
     "output_type": "execute_result"
    }
   ],
   "source": [
    "def getColor(d):\n",
    "    return (\n",
    "        '#000078' if d >= 80 else\n",
    "        '#00c5ff' if d >= 75 else\n",
    "        '#ff00ff' if d >= 70 else\n",
    "        '#ff1111' if d >= 65 else\n",
    "        '#ff7777' if d >= 60 else\n",
    "        '#ffaa00' if d >= 55 else\n",
    "        '#ffcd69' if d >= 50 else\n",
    "        '#ffff02' if d >= 45 else\n",
    "        '#007800' if d >= 40 else\n",
    "        '#c3ff86' if d >= 35 else\n",
    "        'None'\n",
    "    )\n",
    "\n",
    "getColor(34)"
   ]
  },
  {
   "cell_type": "code",
   "execution_count": 202,
   "metadata": {},
   "outputs": [
    {
     "data": {
      "text/plain": [
       "'None'"
      ]
     },
     "execution_count": 202,
     "metadata": {},
     "output_type": "execute_result"
    }
   ],
   "source": [
    "n = 1\n",
    "res = True if n == 0 else 'None'\n",
    "res"
   ]
  }
 ],
 "metadata": {
  "kernelspec": {
   "display_name": "pyvenv",
   "language": "python",
   "name": "python3"
  },
  "language_info": {
   "codemirror_mode": {
    "name": "ipython",
    "version": 3
   },
   "file_extension": ".py",
   "mimetype": "text/x-python",
   "name": "python",
   "nbconvert_exporter": "python",
   "pygments_lexer": "ipython3",
   "version": "3.10.11"
  }
 },
 "nbformat": 4,
 "nbformat_minor": 2
}
